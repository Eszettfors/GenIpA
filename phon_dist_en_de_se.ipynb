{
 "cells": [
  {
   "cell_type": "code",
   "execution_count": 2,
   "metadata": {},
   "outputs": [],
   "source": [
    "import pandas as pd\n",
    "import utils\n",
    "from importlib import reload\n",
    "import utils\n",
    "reload(utils)\n",
    "import seaborn as sns\n",
    "import scipy.stats as stats"
   ]
  },
  {
   "cell_type": "code",
   "execution_count": 3,
   "metadata": {},
   "outputs": [],
   "source": [
    "file = 'phone_dist_data/UN_human_rights_germanic.csv'"
   ]
  },
  {
   "cell_type": "code",
   "execution_count": 27,
   "metadata": {},
   "outputs": [],
   "source": [
    "df_ortho = pd.read_csv(file)"
   ]
  },
  {
   "cell_type": "markdown",
   "metadata": {},
   "source": [
    "## orthographic distance"
   ]
  },
  {
   "cell_type": "code",
   "execution_count": 28,
   "metadata": {},
   "outputs": [
    {
     "data": {
      "text/html": [
       "<div>\n",
       "<style scoped>\n",
       "    .dataframe tbody tr th:only-of-type {\n",
       "        vertical-align: middle;\n",
       "    }\n",
       "\n",
       "    .dataframe tbody tr th {\n",
       "        vertical-align: top;\n",
       "    }\n",
       "\n",
       "    .dataframe thead th {\n",
       "        text-align: right;\n",
       "    }\n",
       "</style>\n",
       "<table border=\"1\" class=\"dataframe\">\n",
       "  <thead>\n",
       "    <tr style=\"text-align: right;\">\n",
       "      <th></th>\n",
       "      <th>Article</th>\n",
       "      <th>English</th>\n",
       "      <th>German</th>\n",
       "      <th>Swedish</th>\n",
       "    </tr>\n",
       "  </thead>\n",
       "  <tbody>\n",
       "    <tr>\n",
       "      <th>0</th>\n",
       "      <td>1</td>\n",
       "      <td>All human beings are born free and equal in di...</td>\n",
       "      <td>Alle Menschen sind frei und gleich an Würde un...</td>\n",
       "      <td>Alla människor är födda fria och lika i värde ...</td>\n",
       "    </tr>\n",
       "    <tr>\n",
       "      <th>1</th>\n",
       "      <td>2</td>\n",
       "      <td>Everyone is entitled to all the rights and fre...</td>\n",
       "      <td>Jeder hat Anspruch auf alle in dieser Erklärun...</td>\n",
       "      <td>Var och en är berättigad till alla de rättighe...</td>\n",
       "    </tr>\n",
       "    <tr>\n",
       "      <th>2</th>\n",
       "      <td>3</td>\n",
       "      <td>Everyone has the right to life, liberty and se...</td>\n",
       "      <td>Jeder hat das Recht auf Leben, Freiheit und Si...</td>\n",
       "      <td>Var och en har rätt till liv, frihet och perso...</td>\n",
       "    </tr>\n",
       "    <tr>\n",
       "      <th>3</th>\n",
       "      <td>4</td>\n",
       "      <td>No one shall be held in slavery or servitude; ...</td>\n",
       "      <td>Niemand darf in Sklaverei oder Leibeigenschaft...</td>\n",
       "      <td>Ingen får hållas i slaveri eller träldom; slav...</td>\n",
       "    </tr>\n",
       "    <tr>\n",
       "      <th>4</th>\n",
       "      <td>5</td>\n",
       "      <td>No one shall be subjected to torture or to cru...</td>\n",
       "      <td>Niemand darf der Folter oder grausamer, unmens...</td>\n",
       "      <td>Ingen får utsättas för tortyr eller grym, omän...</td>\n",
       "    </tr>\n",
       "  </tbody>\n",
       "</table>\n",
       "</div>"
      ],
      "text/plain": [
       "   Article                                            English  \\\n",
       "0        1  All human beings are born free and equal in di...   \n",
       "1        2  Everyone is entitled to all the rights and fre...   \n",
       "2        3  Everyone has the right to life, liberty and se...   \n",
       "3        4  No one shall be held in slavery or servitude; ...   \n",
       "4        5  No one shall be subjected to torture or to cru...   \n",
       "\n",
       "                                              German  \\\n",
       "0  Alle Menschen sind frei und gleich an Würde un...   \n",
       "1  Jeder hat Anspruch auf alle in dieser Erklärun...   \n",
       "2  Jeder hat das Recht auf Leben, Freiheit und Si...   \n",
       "3  Niemand darf in Sklaverei oder Leibeigenschaft...   \n",
       "4  Niemand darf der Folter oder grausamer, unmens...   \n",
       "\n",
       "                                             Swedish  \n",
       "0  Alla människor är födda fria och lika i värde ...  \n",
       "1  Var och en är berättigad till alla de rättighe...  \n",
       "2  Var och en har rätt till liv, frihet och perso...  \n",
       "3  Ingen får hållas i slaveri eller träldom; slav...  \n",
       "4  Ingen får utsättas för tortyr eller grym, omän...  "
      ]
     },
     "execution_count": 28,
     "metadata": {},
     "output_type": "execute_result"
    }
   ],
   "source": [
    "df_ortho.head()"
   ]
  },
  {
   "cell_type": "markdown",
   "metadata": {},
   "source": [
    "##### Clean data"
   ]
  },
  {
   "cell_type": "code",
   "execution_count": 116,
   "metadata": {},
   "outputs": [],
   "source": [
    "def clean_string(s):\n",
    "    s = s.lower().strip()\n",
    "    for symbol in [\" \", \",\", \".\", \"\", \"1\", \"2\",\"3\", \"/\"]:\n",
    "        s = s.replace(symbol, \"\")\n",
    "    return s"
   ]
  },
  {
   "cell_type": "code",
   "execution_count": 121,
   "metadata": {},
   "outputs": [],
   "source": [
    "df_ortho.English = df_ortho.English.apply(clean_string)\n",
    "df_ortho.German = df_ortho.German.apply(clean_string)\n",
    "df_ortho.Swedish = df_ortho.Swedish.apply(clean_string)"
   ]
  },
  {
   "cell_type": "markdown",
   "metadata": {},
   "source": [
    "##### Get distance"
   ]
  },
  {
   "cell_type": "code",
   "execution_count": 122,
   "metadata": {},
   "outputs": [],
   "source": [
    "df_ortho['orth_dist_en_de'] = 0\n",
    "df_ortho['orth_dist_en_se'] = 0\n",
    "df_ortho['orth_dist_de_se'] = 0\n",
    "for i in range(len(df_ortho)):\n",
    "    df_ortho['orth_dist_en_de'].iloc[i] = utils.normalized_edit_distance(df_ortho.English[i], df_ortho.German[i])\n",
    "    df_ortho['orth_dist_en_se'].iloc[i] = utils.normalized_edit_distance(df_ortho.English[i], df_ortho.Swedish[i])\n",
    "    df_ortho['orth_dist_de_se'].iloc[i] = utils.normalized_edit_distance(df_ortho.Swedish[i], df_ortho.German[i])"
   ]
  },
  {
   "cell_type": "code",
   "execution_count": 123,
   "metadata": {},
   "outputs": [
    {
     "data": {
      "text/html": [
       "<div>\n",
       "<style scoped>\n",
       "    .dataframe tbody tr th:only-of-type {\n",
       "        vertical-align: middle;\n",
       "    }\n",
       "\n",
       "    .dataframe tbody tr th {\n",
       "        vertical-align: top;\n",
       "    }\n",
       "\n",
       "    .dataframe thead th {\n",
       "        text-align: right;\n",
       "    }\n",
       "</style>\n",
       "<table border=\"1\" class=\"dataframe\">\n",
       "  <thead>\n",
       "    <tr style=\"text-align: right;\">\n",
       "      <th></th>\n",
       "      <th>Article</th>\n",
       "      <th>English</th>\n",
       "      <th>German</th>\n",
       "      <th>Swedish</th>\n",
       "      <th>orth_dist_en_de</th>\n",
       "      <th>orth_dist_en_se</th>\n",
       "      <th>orth_dist_de_se</th>\n",
       "    </tr>\n",
       "  </thead>\n",
       "  <tbody>\n",
       "    <tr>\n",
       "      <th>0</th>\n",
       "      <td>1</td>\n",
       "      <td>allhumanbeingsarebornfreeandequalindignityandr...</td>\n",
       "      <td>allemenschensindfreiundgleichanwürdeundrechten...</td>\n",
       "      <td>allamänniskorärföddafriaochlikaivärdeochrättig...</td>\n",
       "      <td>0.746377</td>\n",
       "      <td>0.792593</td>\n",
       "      <td>0.776119</td>\n",
       "    </tr>\n",
       "    <tr>\n",
       "      <th>1</th>\n",
       "      <td>2</td>\n",
       "      <td>everyoneisentitledtoalltherightsandfreedomsset...</td>\n",
       "      <td>jederhatanspruchaufalleindiesererklärungverkün...</td>\n",
       "      <td>varochenärberättigadtillalladerättigheterochfr...</td>\n",
       "      <td>0.730159</td>\n",
       "      <td>0.740385</td>\n",
       "      <td>0.751648</td>\n",
       "    </tr>\n",
       "    <tr>\n",
       "      <th>2</th>\n",
       "      <td>3</td>\n",
       "      <td>everyonehastherighttolifelibertyandsecurityofp...</td>\n",
       "      <td>jederhatdasrechtauflebenfreiheitundsicherheitd...</td>\n",
       "      <td>varochenharrätttilllivfrihetochpersonligsäkerhet</td>\n",
       "      <td>0.628571</td>\n",
       "      <td>0.767677</td>\n",
       "      <td>0.764706</td>\n",
       "    </tr>\n",
       "    <tr>\n",
       "      <th>3</th>\n",
       "      <td>4</td>\n",
       "      <td>nooneshallbeheldinslaveryorservitude;slaveryan...</td>\n",
       "      <td>niemanddarfinsklavereioderleibeigenschaftgehal...</td>\n",
       "      <td>ingenfårhållasislaveriellerträldom;slaveriochs...</td>\n",
       "      <td>0.768473</td>\n",
       "      <td>0.640449</td>\n",
       "      <td>0.771574</td>\n",
       "    </tr>\n",
       "    <tr>\n",
       "      <th>4</th>\n",
       "      <td>5</td>\n",
       "      <td>nooneshallbesubjectedtotortureortocruelinhuman...</td>\n",
       "      <td>niemanddarfderfolterodergrausamerunmenschliche...</td>\n",
       "      <td>ingenfårutsättasförtortyrellergrymomänskligell...</td>\n",
       "      <td>0.833333</td>\n",
       "      <td>0.817073</td>\n",
       "      <td>0.691489</td>\n",
       "    </tr>\n",
       "  </tbody>\n",
       "</table>\n",
       "</div>"
      ],
      "text/plain": [
       "   Article                                            English  \\\n",
       "0        1  allhumanbeingsarebornfreeandequalindignityandr...   \n",
       "1        2  everyoneisentitledtoalltherightsandfreedomsset...   \n",
       "2        3  everyonehastherighttolifelibertyandsecurityofp...   \n",
       "3        4  nooneshallbeheldinslaveryorservitude;slaveryan...   \n",
       "4        5  nooneshallbesubjectedtotortureortocruelinhuman...   \n",
       "\n",
       "                                              German  \\\n",
       "0  allemenschensindfreiundgleichanwürdeundrechten...   \n",
       "1  jederhatanspruchaufalleindiesererklärungverkün...   \n",
       "2  jederhatdasrechtauflebenfreiheitundsicherheitd...   \n",
       "3  niemanddarfinsklavereioderleibeigenschaftgehal...   \n",
       "4  niemanddarfderfolterodergrausamerunmenschliche...   \n",
       "\n",
       "                                             Swedish  orth_dist_en_de  \\\n",
       "0  allamänniskorärföddafriaochlikaivärdeochrättig...         0.746377   \n",
       "1  varochenärberättigadtillalladerättigheterochfr...         0.730159   \n",
       "2   varochenharrätttilllivfrihetochpersonligsäkerhet         0.628571   \n",
       "3  ingenfårhållasislaveriellerträldom;slaveriochs...         0.768473   \n",
       "4  ingenfårutsättasförtortyrellergrymomänskligell...         0.833333   \n",
       "\n",
       "   orth_dist_en_se  orth_dist_de_se  \n",
       "0         0.792593         0.776119  \n",
       "1         0.740385         0.751648  \n",
       "2         0.767677         0.764706  \n",
       "3         0.640449         0.771574  \n",
       "4         0.817073         0.691489  "
      ]
     },
     "execution_count": 123,
     "metadata": {},
     "output_type": "execute_result"
    }
   ],
   "source": [
    "df_ortho.head()"
   ]
  },
  {
   "cell_type": "code",
   "execution_count": 128,
   "metadata": {},
   "outputs": [
    {
     "data": {
      "text/html": [
       "<div>\n",
       "<style scoped>\n",
       "    .dataframe tbody tr th:only-of-type {\n",
       "        vertical-align: middle;\n",
       "    }\n",
       "\n",
       "    .dataframe tbody tr th {\n",
       "        vertical-align: top;\n",
       "    }\n",
       "\n",
       "    .dataframe thead th {\n",
       "        text-align: right;\n",
       "    }\n",
       "</style>\n",
       "<table border=\"1\" class=\"dataframe\">\n",
       "  <thead>\n",
       "    <tr style=\"text-align: right;\">\n",
       "      <th></th>\n",
       "      <th>Article</th>\n",
       "      <th>orth_dist_en_de</th>\n",
       "      <th>orth_dist_en_se</th>\n",
       "      <th>orth_dist_de_se</th>\n",
       "    </tr>\n",
       "  </thead>\n",
       "  <tbody>\n",
       "    <tr>\n",
       "      <th>count</th>\n",
       "      <td>30.000000</td>\n",
       "      <td>30.000000</td>\n",
       "      <td>30.000000</td>\n",
       "      <td>30.000000</td>\n",
       "    </tr>\n",
       "    <tr>\n",
       "      <th>mean</th>\n",
       "      <td>15.500000</td>\n",
       "      <td>0.800210</td>\n",
       "      <td>0.780096</td>\n",
       "      <td>0.793883</td>\n",
       "    </tr>\n",
       "    <tr>\n",
       "      <th>std</th>\n",
       "      <td>8.803408</td>\n",
       "      <td>0.053291</td>\n",
       "      <td>0.055513</td>\n",
       "      <td>0.048046</td>\n",
       "    </tr>\n",
       "    <tr>\n",
       "      <th>min</th>\n",
       "      <td>1.000000</td>\n",
       "      <td>0.628571</td>\n",
       "      <td>0.640449</td>\n",
       "      <td>0.691489</td>\n",
       "    </tr>\n",
       "    <tr>\n",
       "      <th>25%</th>\n",
       "      <td>8.250000</td>\n",
       "      <td>0.771979</td>\n",
       "      <td>0.766546</td>\n",
       "      <td>0.769005</td>\n",
       "    </tr>\n",
       "    <tr>\n",
       "      <th>50%</th>\n",
       "      <td>15.500000</td>\n",
       "      <td>0.806063</td>\n",
       "      <td>0.790527</td>\n",
       "      <td>0.787233</td>\n",
       "    </tr>\n",
       "    <tr>\n",
       "      <th>75%</th>\n",
       "      <td>22.750000</td>\n",
       "      <td>0.832572</td>\n",
       "      <td>0.805432</td>\n",
       "      <td>0.829286</td>\n",
       "    </tr>\n",
       "    <tr>\n",
       "      <th>max</th>\n",
       "      <td>30.000000</td>\n",
       "      <td>0.892562</td>\n",
       "      <td>0.902655</td>\n",
       "      <td>0.887892</td>\n",
       "    </tr>\n",
       "  </tbody>\n",
       "</table>\n",
       "</div>"
      ],
      "text/plain": [
       "         Article  orth_dist_en_de  orth_dist_en_se  orth_dist_de_se\n",
       "count  30.000000        30.000000        30.000000        30.000000\n",
       "mean   15.500000         0.800210         0.780096         0.793883\n",
       "std     8.803408         0.053291         0.055513         0.048046\n",
       "min     1.000000         0.628571         0.640449         0.691489\n",
       "25%     8.250000         0.771979         0.766546         0.769005\n",
       "50%    15.500000         0.806063         0.790527         0.787233\n",
       "75%    22.750000         0.832572         0.805432         0.829286\n",
       "max    30.000000         0.892562         0.902655         0.887892"
      ]
     },
     "execution_count": 128,
     "metadata": {},
     "output_type": "execute_result"
    }
   ],
   "source": [
    "df_ortho.describe()"
   ]
  },
  {
   "cell_type": "code",
   "execution_count": 124,
   "metadata": {},
   "outputs": [
    {
     "data": {
      "text/plain": [
       "<Axes: >"
      ]
     },
     "execution_count": 124,
     "metadata": {},
     "output_type": "execute_result"
    },
    {
     "data": {
      "image/png": "[encoded data removed]",
      "text/plain": [
       "<Figure size 640x480 with 1 Axes>"
      ]
     },
     "metadata": {},
     "output_type": "display_data"
    }
   ],
   "source": [
    "sns.boxplot(data = df_ortho[['orth_dist_en_de', 'orth_dist_en_se', 'orth_dist_de_se']])"
   ]
  },
  {
   "cell_type": "code",
   "execution_count": 32,
   "metadata": {},
   "outputs": [
    {
     "data": {
      "text/plain": [
       "<Axes: >"
      ]
     },
     "execution_count": 32,
     "metadata": {},
     "output_type": "execute_result"
    },
    {
     "data": {
      "image/png": "[encoded data removed]",
      "text/plain": [
       "<Figure size 640x480 with 1 Axes>"
      ]
     },
     "metadata": {},
     "output_type": "display_data"
    }
   ],
   "source": [
    "sns.boxplot(data = df_ortho[['orth_dist_en_de', 'orth_dist_en_se', 'orth_dist_de_se']])"
   ]
  },
  {
   "cell_type": "code",
   "execution_count": 125,
   "metadata": {},
   "outputs": [
    {
     "data": {
      "text/plain": [
       "MannwhitneyuResult(statistic=556.0, pvalue=0.11881734448329707)"
      ]
     },
     "execution_count": 125,
     "metadata": {},
     "output_type": "execute_result"
    }
   ],
   "source": [
    "stats.mannwhitneyu(df_ortho.orth_dist_en_de, df_ortho.orth_dist_en_se)"
   ]
  },
  {
   "cell_type": "code",
   "execution_count": 126,
   "metadata": {},
   "outputs": [
    {
     "data": {
      "text/plain": [
       "MannwhitneyuResult(statistic=501.0, pvalue=0.4552969069031376)"
      ]
     },
     "execution_count": 126,
     "metadata": {},
     "output_type": "execute_result"
    }
   ],
   "source": [
    "stats.mannwhitneyu(df_ortho.orth_dist_en_de, df_ortho.orth_dist_de_se)"
   ]
  },
  {
   "cell_type": "code",
   "execution_count": 127,
   "metadata": {},
   "outputs": [
    {
     "data": {
      "text/plain": [
       "MannwhitneyuResult(statistic=421.0, pvalue=0.673495052801603)"
      ]
     },
     "execution_count": 127,
     "metadata": {},
     "output_type": "execute_result"
    }
   ],
   "source": [
    "stats.mannwhitneyu(df_ortho.orth_dist_en_se, df_ortho.orth_dist_de_se)"
   ]
  },
  {
   "cell_type": "code",
   "execution_count": 26,
   "metadata": {},
   "outputs": [],
   "source": [
    "df_ortho.to_excel('output/UN_human_rights_germanic_orthographic_distance.xlsx', index=False)"
   ]
  },
  {
   "cell_type": "markdown",
   "metadata": {},
   "source": [
    "### Conclusion:\n",
    "-   No significance in orthographic distance between the languages for the texts"
   ]
  },
  {
   "cell_type": "markdown",
   "metadata": {},
   "source": [
    "## Get Ipa transcriptions"
   ]
  },
  {
   "cell_type": "code",
   "execution_count": 28,
   "metadata": {},
   "outputs": [],
   "source": [
    "df_phon = pd.read_csv('phone_dist_data/UN_human_rights_germanic.csv')"
   ]
  },
  {
   "cell_type": "code",
   "execution_count": null,
   "metadata": {},
   "outputs": [],
   "source": [
    "#takes ca 10 min\n",
    "df_phon['English_ipa'] = 0\n",
    "df_phon['German_ipa'] = 0\n",
    "df_phon['Swedish_ipa'] = 0\n",
    "for i in range(len(df_phon)):\n",
    "    df_phon['English_ipa'].iloc[i] = utils.get_ipa_openai(df_phon.English[i])\n",
    "    df_phon['German_ipa'].iloc[i] = utils.get_ipa_openai(df_phon.German[i])\n",
    "    df_phon['Swedish_ipa'].iloc[i] = utils.get_ipa_openai(df_phon.Swedish[i])\n",
    "    "
   ]
  },
  {
   "cell_type": "code",
   "execution_count": null,
   "metadata": {},
   "outputs": [
    {
     "data": {
      "text/html": [
       "<div>\n",
       "<style scoped>\n",
       "    .dataframe tbody tr th:only-of-type {\n",
       "        vertical-align: middle;\n",
       "    }\n",
       "\n",
       "    .dataframe tbody tr th {\n",
       "        vertical-align: top;\n",
       "    }\n",
       "\n",
       "    .dataframe thead th {\n",
       "        text-align: right;\n",
       "    }\n",
       "</style>\n",
       "<table border=\"1\" class=\"dataframe\">\n",
       "  <thead>\n",
       "    <tr style=\"text-align: right;\">\n",
       "      <th></th>\n",
       "      <th>English_ipa</th>\n",
       "      <th>German_ipa</th>\n",
       "      <th>Swedish_ipa</th>\n",
       "    </tr>\n",
       "  </thead>\n",
       "  <tbody>\n",
       "    <tr>\n",
       "      <th>0</th>\n",
       "      <td>/ɔːl ˈhjuːmən ˈbiːɪŋz ɑːr bɔːrn friː ænd ˈiːkw...</td>\n",
       "      <td>/ˈalə ˈmɛnʃən zɪnt fraɪ ʊnt ɡlaiç an ˈvʏrdə ʊn...</td>\n",
       "      <td>/ˈalːa ˈmɛnːɪskʊr ɛr ˈfœdːa ˈfrɪːa ɔk ˈliːka i...</td>\n",
       "    </tr>\n",
       "    <tr>\n",
       "      <th>1</th>\n",
       "      <td>/ˈɛvrɪwʌn ɪz ɪnˈtaɪtəld tuː ɔːl ðə raɪts ænd ˈ...</td>\n",
       "      <td>/ˈjeːdɐ hat ˈanʃpraʊx aʊf ˈalə ɪn ˈdɪzɐ ɛrˈklɛ...</td>\n",
       "      <td>/ˈvar ɔk ˈɛn ɛr bɛˈrɛtːɪɡad tɪl ˈalːa dɛ ˈrɛtː...</td>\n",
       "    </tr>\n",
       "    <tr>\n",
       "      <th>2</th>\n",
       "      <td>/ˈɛvrɪwʌn hæz ðə raɪt tu laɪf, ˈlɪbərti ænd sɪ...</td>\n",
       "      <td>/ˈjeːdɐ hat das ʁɛçt aʊf ˈliːbən, ˈfʁaɪhaɪt ʊn...</td>\n",
       "      <td>/ˈvar ɔk ˈɛn har rɛt til liːv, ˈfriːhɛt ɔk pɛr...</td>\n",
       "    </tr>\n",
       "    <tr>\n",
       "      <th>3</th>\n",
       "      <td>/noʊ wʌn ʃæl bi hɛld ɪn ˈsleɪvəri ɔr ˈsɜrvɪˌtu...</td>\n",
       "      <td>/ˈniːmant darf ɪn ˈʃlaːvəraɪ oːɐ̯ ˈlaɪ̯baɪ̯ɡən...</td>\n",
       "      <td>/ˈɪŋɛn fɔr ˈhɔlːas ɪ ˈslɑːvɛrɪ ɛlɛr ˈtrɛlːdʊm;...</td>\n",
       "    </tr>\n",
       "    <tr>\n",
       "      <th>4</th>\n",
       "      <td>/noʊ wʌn ʃæl bi səbˈdʒɛktɪd tu ˈtɔrtʃər ɔr tu ...</td>\n",
       "      <td>/ˈniːmant dɑrf deːɐ ˈfɔltɐ oːɐ ˈɡʁaʊzamɐ ˈʊnmɛ...</td>\n",
       "      <td>/ˈɪŋɛn fɔːr ²ɵtˌsɛtːas fœr tʊrˈtyːr ɛlɛr ²ɡryː...</td>\n",
       "    </tr>\n",
       "    <tr>\n",
       "      <th>5</th>\n",
       "      <td>/ˈɛvrɪwʌn hæz ðə raɪt tuː ˌrɛkəɡˈnɪʃən ˈɛvrɪwɛ...</td>\n",
       "      <td>/ˈjeːdɐ hat ˈyːbɐal ˈʔanˌʃprʊx aʊf ˌʔanɐˈkɛnʊŋ...</td>\n",
       "      <td>/ˈvɑːr ɔk ˈɛn har rɛt ɑt ˈœvɛrˌal ɛrkɛnˈnɑs sɔ...</td>\n",
       "    </tr>\n",
       "    <tr>\n",
       "      <th>6</th>\n",
       "      <td>/ɔl ɑr ˈikwəl bɪˈfɔr ðə lɔ ənd ɑr ɪnˈtaɪtəld w...</td>\n",
       "      <td>/ˈalə ˈmɛnʃən zɪnt foːɐ deːm ˈlɛts ɡlaɪç ʊnt ˈ...</td>\n",
       "      <td>/ˈalːa ær ˈliːka ˈɪnˌføːr ˈlɑːɡɛn ɔk har rɛtː ...</td>\n",
       "    </tr>\n",
       "    <tr>\n",
       "      <th>7</th>\n",
       "      <td>/ˈɛvrɪwʌn hæz ðə raɪt tuː ən ɪˈfɛktɪv ˈrɛmədi ...</td>\n",
       "      <td>/ˈjeːdɐ hat ˈanˌʃprʊç aʊf ˈaɪnən ˈvɪʁksamən ˈʁ...</td>\n",
       "      <td>/ˈvɑːr ɔk ˈɛn har rɛtː til ɛt ˈvæɾkˌsamt ˈrɛtː...</td>\n",
       "    </tr>\n",
       "    <tr>\n",
       "      <th>8</th>\n",
       "      <td>/noʊ wʌn ʃæl bi səbˈdʒɛktɪd tuː ˈɑːrbɪˌtrɛri ə...</td>\n",
       "      <td>/ˈniːmant dɑrf ˈvɪlkœrliç ˈfɛstɡənɔmən, ɪn haf...</td>\n",
       "      <td>/ˈɪŋɛn fɔr ˈɡuːdʏkɛlɪt ˈanˌhɔlːas, ˈhɔlːas ˈfɛ...</td>\n",
       "    </tr>\n",
       "    <tr>\n",
       "      <th>9</th>\n",
       "      <td>/ˈɛvrɪwʌn ɪz ɪnˈtaɪtəld ɪn fʊl ɪˈkwɒlɪti tuː ə...</td>\n",
       "      <td>/ˈjeːdɐ hat baɪ deːɐ fɛstˈʃtɛlʊŋ zɪnɐ ˈʁɛçtə ʊ...</td>\n",
       "      <td>/ˈvɑr ɔk ˈɛn ɛr ˈpɔ fɵlˈstɛnːdɪɡ ˈjɛmːlɪk fʊt ...</td>\n",
       "    </tr>\n",
       "    <tr>\n",
       "      <th>10</th>\n",
       "      <td>1. /ˈɛvrɪwʌn tʃɑːrdʒd wɪð ə ˈpiːnəl ˈɒfəns hæz...</td>\n",
       "      <td>1. /ˈjeːdɐ, deːɐ veːɡn̩ eːnɐ ˈʃtʁaːfbaːʁən ˈha...</td>\n",
       "      <td>1. /var ɔk ˈɛn sɔm anˈklɑːsas fœr ɛn ˈstrafːba...</td>\n",
       "    </tr>\n",
       "    <tr>\n",
       "      <th>11</th>\n",
       "      <td>/noʊ wʌn ʃæl bi səbˈdʒɛktɪd tuː ɑːrˈbɪtrɛri ˈɪ...</td>\n",
       "      <td>/ˈniːmant dɑrf ˈvɪlkʏrliçən ˈaɪ̯nɡrɪfən ɪn zaɪ...</td>\n",
       "      <td>/ˈɪŋɛn fɔːr ²ɵtˌsɛtːas fœr ²ɡʊdˌtʏkːɛlɪɡa ²ɪŋˌ...</td>\n",
       "    </tr>\n",
       "    <tr>\n",
       "      <th>12</th>\n",
       "      <td>1. /ˈɛvrɪwʌn hæz ðə raɪt tuː ˈfriːdəm ʌv ˈmuːv...</td>\n",
       "      <td>1. /ˈjeːdɐ hat das ʁɛçt, zɪç ˈɪnnɐˌhalp ˈaɪnɐs...</td>\n",
       "      <td>1. /var ɔk ˈɛn har rɛt ɑt frɪt fœrˈflytːa sɛj ...</td>\n",
       "    </tr>\n",
       "    <tr>\n",
       "      <th>13</th>\n",
       "      <td>1. /ˈɛvrɪwʌn hæz ðə raɪt tuː siːk ænd tuː ɪnˈd...</td>\n",
       "      <td>1. /ˈjeːdɐ hat das ʁɛçt, ɪn ˈandɐn ˈlɛndɐn ˈaz...</td>\n",
       "      <td>1. /var ɔk ˈɕɑːr ˈatː ɪ ˈandɾa ˈlɛŋdɛɾ ˈsøːka ...</td>\n",
       "    </tr>\n",
       "    <tr>\n",
       "      <th>14</th>\n",
       "      <td>1. /ˈɛvrɪwʌn hæz ðə raɪt tuː ə ˌnæʃəˈnæləti/\\n...</td>\n",
       "      <td>1. /ˈjeːdɐ hat das ʁɛçt aʊf ˈaɪnə ˈʃtaːtsanɡəh...</td>\n",
       "      <td>1. /var ɔk ˈɕɛn har rɛtː til ɛn nasjʊnaˈliːtɛt...</td>\n",
       "    </tr>\n",
       "    <tr>\n",
       "      <th>15</th>\n",
       "      <td>1. /mɛn ənd ˈwɪmɪn ʌv fʊl eɪdʒ, wɪˈðaʊt ˈɛni ˌ...</td>\n",
       "      <td>1. /ˈhaɪ̯ʁatsˌfɛːɪ̯ɡə ˈmɛnˌnɐ ʊnt ˈfʁaʊ̯ən ˈha...</td>\n",
       "      <td>1. /fɵlˈvɵkˌsna mɛn ɔk ˈkvɪnˌnɔr har rɛtː at ˈ...</td>\n",
       "    </tr>\n",
       "    <tr>\n",
       "      <th>16</th>\n",
       "      <td>1. /ˈɛvrɪwʌn hæz ðə raɪt tu oʊn ˈprɒpərti əˈlo...</td>\n",
       "      <td>1. /ˈjeːdɐ hat das ʁɛçt, ˈzoːvoːl ˈalain als a...</td>\n",
       "      <td>1. /var ɔk ˈɕɛn har rɛt ɑt ˈɛːga ˈeːgɛndɔm ˈbɛ...</td>\n",
       "    </tr>\n",
       "    <tr>\n",
       "      <th>17</th>\n",
       "      <td>/ˈɛvrɪwʌn hæz ðə raɪt tuː ˈfriːdəm ʌv θɔt ˈkɑn...</td>\n",
       "      <td>/ˈjeːdɐ hat das ʁɛçt aʊf ɡəˈdɛŋkən ɡəˈvɪsn̩s ʊ...</td>\n",
       "      <td>/ˈvɑːr ɔk ˈɛn har rɛtː til ˈtanːkɛˌfriːhɛt, ˈs...</td>\n",
       "    </tr>\n",
       "    <tr>\n",
       "      <th>18</th>\n",
       "      <td>/ˈɛvrɪwʌn hæz ðə raɪt tu ˈfriːdəm ʌv əˈpɪnjən ...</td>\n",
       "      <td>/ˈjeːdɐ hat das ʁɛçt aʊf ˈmaɪnʊŋsfʁaɪhaɪt ʊnt ...</td>\n",
       "      <td>/ˈvɑːr ɔk ˈɛn har rɛtː til ˈoːsɪktsˌfriːhɛt ɔk...</td>\n",
       "    </tr>\n",
       "    <tr>\n",
       "      <th>19</th>\n",
       "      <td>1. /ˈɛvrɪwʌn hæz ðə raɪt tuː ˈfriːdəm ʌv ˈpiːs...</td>\n",
       "      <td>1. /ˈalə ˈmɛnʃən ˈhaːbən das ʁɛçt, zɪç ˈfʁiːdl...</td>\n",
       "      <td>1. /var ɔk ˈɛn har rɛtː til ˈfriːhɛt i ˈfroːga...</td>\n",
       "    </tr>\n",
       "    <tr>\n",
       "      <th>20</th>\n",
       "      <td>1. /ˈɛvrɪwʌn hæz ðə raɪt tuː teɪk pɑːrt ɪn ðə ...</td>\n",
       "      <td>1. /ˈjeːdɐ hat das ʁɛçt, an deːɐ ɡəˈʃtaːltʊŋ d...</td>\n",
       "      <td>1. /var ɔk ˈɛn har rɛt ɑt ˈtɑːɡa dɛl i sɪt ˈla...</td>\n",
       "    </tr>\n",
       "    <tr>\n",
       "      <th>21</th>\n",
       "      <td>/ˈɛvrɪwʌn, æz ə ˈmɛmbər ʌv səˈsaɪəti, hæz ðə r...</td>\n",
       "      <td>/ˈjeːdɐ ˈmɛnʃ hat als ˈmiːtɡliːt deːɐ ɡəˈzɛlʃa...</td>\n",
       "      <td>/ˈvɑːr ɔk ˈɛn har, i ˈeːɡɛnskap av ˈmeːdlɛm i ...</td>\n",
       "    </tr>\n",
       "    <tr>\n",
       "      <th>22</th>\n",
       "      <td>1. ˈɛvrɪwʌn hæz ðə raɪt tu wɜːrk, tu friː tʃɔɪ...</td>\n",
       "      <td>1. /ˈjeːdɐ hat das ʁɛçt aʊf ˈaʁbaɪt, aʊf ˈfʁaɪ...</td>\n",
       "      <td>1. /var ɔk ˈɛn har rɛt til ˈarbɛtɛ, til frɪt v...</td>\n",
       "    </tr>\n",
       "    <tr>\n",
       "      <th>23</th>\n",
       "      <td>/ˈɛvrɪwʌn hæz ðə raɪt tuː rɛst ænd ˈlɛʒər, ɪnˈ...</td>\n",
       "      <td>/ˈjeːdɐ hat das ʁɛçt aʊf ɛɐˈhoːlʊŋ ʊnt ˈfʁaɪtˌ...</td>\n",
       "      <td>/ˈvɑːr ɔk ˈɛn har rɛtː til ˈviːla ɔk ˈfriːtiːd...</td>\n",
       "    </tr>\n",
       "    <tr>\n",
       "      <th>24</th>\n",
       "      <td>1. /ˈɛvrɪwʌn hæz ðə raɪt tuː ə ˈstændərd ʌv ˈl...</td>\n",
       "      <td>ˈjeːdɐ hat das ʁɛçt aʊf ˈaɪnən ˈleːbnsˌʃtaːnda...</td>\n",
       "      <td>1. /var ɔk ˈɛn har rɛtː til ɛn ˈlɛvːnadsˌstand...</td>\n",
       "    </tr>\n",
       "    <tr>\n",
       "      <th>25</th>\n",
       "      <td>1. ˈɛvrɪwʌn hæz ðə raɪt tuː ˌɛdʒʊˈkeɪʃən. ˌɛdʒ...</td>\n",
       "      <td>1. /ˈjeːdɐ hat das ʁɛçt aʊf bɪlˈdʊŋ. diː bɪlˈd...</td>\n",
       "      <td>1. /var ɔk ˈɛn har rɛtː til ˈɵtːbɪldnɪŋ | ˈɵtː...</td>\n",
       "    </tr>\n",
       "    <tr>\n",
       "      <th>26</th>\n",
       "      <td>1. /ˈɛvrɪwʌn hæz ðə raɪt ˈfriːli tuː pɑːrˈtɪsɪ...</td>\n",
       "      <td>1. /ˈjeːdɐ hat das ʁɛçt, am kʊltuˈʁɛlən ˈliːbə...</td>\n",
       "      <td>1. /var ɔk ˈɛn har rɛt ɑt frɪt dɛlˈta i ˈsamˌh...</td>\n",
       "    </tr>\n",
       "    <tr>\n",
       "      <th>27</th>\n",
       "      <td>/ˈɛvrɪwʌn ɪz ɪnˈtaɪtəld tuː ə ˈsoʊʃəl ænd ˌɪnt...</td>\n",
       "      <td>/ˈjeːdɐ hat ˈʔanˌʃpraʊx aʊf ˈaɪnə zoˈtsiːalə ʊ...</td>\n",
       "      <td>/ˈvar ɔk ˈɛn ɛr bɛˈrɛtːɪɡad tɪl ɛn ˈsuːʂɪal ɔk...</td>\n",
       "    </tr>\n",
       "    <tr>\n",
       "      <th>28</th>\n",
       "      <td>1. /ˈɛvrɪwʌn hæz ˈdjutiz tuː ðə kəˈmjunəti ɪn ...</td>\n",
       "      <td>1. ˈjeːdɐ hat ˈpflɪçtən ɡəˈɡɛnʏbɐ dɛɐ ɡəˈmaɪnʃ...</td>\n",
       "      <td>1. /var ɔk ˈɛn har ˈplɪkˌtɛr ˈjɛnˌtɔt ˈsamˌhɛl...</td>\n",
       "    </tr>\n",
       "    <tr>\n",
       "      <th>29</th>\n",
       "      <td>/nʌθɪŋ ɪn ðɪs ˌdɛkləˈreɪʃən meɪ bi ˈɪntərprɪtɪ...</td>\n",
       "      <td>/kaɪnə bəˈʃtɪmʊŋ ˈdaːzɐ ɛrkˈlɛːrʊŋ darf ˈdaːhɪ...</td>\n",
       "      <td>/ˈɪŋɛntɪŋ i ˈdɛnːa fœrˈklɑːrɪŋ mɔːr ˈtuːlkas ˈ...</td>\n",
       "    </tr>\n",
       "  </tbody>\n",
       "</table>\n",
       "</div>"
      ],
      "text/plain": [
       "                                          English_ipa  \\\n",
       "0   /ɔːl ˈhjuːmən ˈbiːɪŋz ɑːr bɔːrn friː ænd ˈiːkw...   \n",
       "1   /ˈɛvrɪwʌn ɪz ɪnˈtaɪtəld tuː ɔːl ðə raɪts ænd ˈ...   \n",
       "2   /ˈɛvrɪwʌn hæz ðə raɪt tu laɪf, ˈlɪbərti ænd sɪ...   \n",
       "3   /noʊ wʌn ʃæl bi hɛld ɪn ˈsleɪvəri ɔr ˈsɜrvɪˌtu...   \n",
       "4   /noʊ wʌn ʃæl bi səbˈdʒɛktɪd tu ˈtɔrtʃər ɔr tu ...   \n",
       "5   /ˈɛvrɪwʌn hæz ðə raɪt tuː ˌrɛkəɡˈnɪʃən ˈɛvrɪwɛ...   \n",
       "6   /ɔl ɑr ˈikwəl bɪˈfɔr ðə lɔ ənd ɑr ɪnˈtaɪtəld w...   \n",
       "7   /ˈɛvrɪwʌn hæz ðə raɪt tuː ən ɪˈfɛktɪv ˈrɛmədi ...   \n",
       "8   /noʊ wʌn ʃæl bi səbˈdʒɛktɪd tuː ˈɑːrbɪˌtrɛri ə...   \n",
       "9   /ˈɛvrɪwʌn ɪz ɪnˈtaɪtəld ɪn fʊl ɪˈkwɒlɪti tuː ə...   \n",
       "10  1. /ˈɛvrɪwʌn tʃɑːrdʒd wɪð ə ˈpiːnəl ˈɒfəns hæz...   \n",
       "11  /noʊ wʌn ʃæl bi səbˈdʒɛktɪd tuː ɑːrˈbɪtrɛri ˈɪ...   \n",
       "12  1. /ˈɛvrɪwʌn hæz ðə raɪt tuː ˈfriːdəm ʌv ˈmuːv...   \n",
       "13  1. /ˈɛvrɪwʌn hæz ðə raɪt tuː siːk ænd tuː ɪnˈd...   \n",
       "14  1. /ˈɛvrɪwʌn hæz ðə raɪt tuː ə ˌnæʃəˈnæləti/\\n...   \n",
       "15  1. /mɛn ənd ˈwɪmɪn ʌv fʊl eɪdʒ, wɪˈðaʊt ˈɛni ˌ...   \n",
       "16  1. /ˈɛvrɪwʌn hæz ðə raɪt tu oʊn ˈprɒpərti əˈlo...   \n",
       "17  /ˈɛvrɪwʌn hæz ðə raɪt tuː ˈfriːdəm ʌv θɔt ˈkɑn...   \n",
       "18  /ˈɛvrɪwʌn hæz ðə raɪt tu ˈfriːdəm ʌv əˈpɪnjən ...   \n",
       "19  1. /ˈɛvrɪwʌn hæz ðə raɪt tuː ˈfriːdəm ʌv ˈpiːs...   \n",
       "20  1. /ˈɛvrɪwʌn hæz ðə raɪt tuː teɪk pɑːrt ɪn ðə ...   \n",
       "21  /ˈɛvrɪwʌn, æz ə ˈmɛmbər ʌv səˈsaɪəti, hæz ðə r...   \n",
       "22  1. ˈɛvrɪwʌn hæz ðə raɪt tu wɜːrk, tu friː tʃɔɪ...   \n",
       "23  /ˈɛvrɪwʌn hæz ðə raɪt tuː rɛst ænd ˈlɛʒər, ɪnˈ...   \n",
       "24  1. /ˈɛvrɪwʌn hæz ðə raɪt tuː ə ˈstændərd ʌv ˈl...   \n",
       "25  1. ˈɛvrɪwʌn hæz ðə raɪt tuː ˌɛdʒʊˈkeɪʃən. ˌɛdʒ...   \n",
       "26  1. /ˈɛvrɪwʌn hæz ðə raɪt ˈfriːli tuː pɑːrˈtɪsɪ...   \n",
       "27  /ˈɛvrɪwʌn ɪz ɪnˈtaɪtəld tuː ə ˈsoʊʃəl ænd ˌɪnt...   \n",
       "28  1. /ˈɛvrɪwʌn hæz ˈdjutiz tuː ðə kəˈmjunəti ɪn ...   \n",
       "29  /nʌθɪŋ ɪn ðɪs ˌdɛkləˈreɪʃən meɪ bi ˈɪntərprɪtɪ...   \n",
       "\n",
       "                                           German_ipa  \\\n",
       "0   /ˈalə ˈmɛnʃən zɪnt fraɪ ʊnt ɡlaiç an ˈvʏrdə ʊn...   \n",
       "1   /ˈjeːdɐ hat ˈanʃpraʊx aʊf ˈalə ɪn ˈdɪzɐ ɛrˈklɛ...   \n",
       "2   /ˈjeːdɐ hat das ʁɛçt aʊf ˈliːbən, ˈfʁaɪhaɪt ʊn...   \n",
       "3   /ˈniːmant darf ɪn ˈʃlaːvəraɪ oːɐ̯ ˈlaɪ̯baɪ̯ɡən...   \n",
       "4   /ˈniːmant dɑrf deːɐ ˈfɔltɐ oːɐ ˈɡʁaʊzamɐ ˈʊnmɛ...   \n",
       "5   /ˈjeːdɐ hat ˈyːbɐal ˈʔanˌʃprʊx aʊf ˌʔanɐˈkɛnʊŋ...   \n",
       "6   /ˈalə ˈmɛnʃən zɪnt foːɐ deːm ˈlɛts ɡlaɪç ʊnt ˈ...   \n",
       "7   /ˈjeːdɐ hat ˈanˌʃprʊç aʊf ˈaɪnən ˈvɪʁksamən ˈʁ...   \n",
       "8   /ˈniːmant dɑrf ˈvɪlkœrliç ˈfɛstɡənɔmən, ɪn haf...   \n",
       "9   /ˈjeːdɐ hat baɪ deːɐ fɛstˈʃtɛlʊŋ zɪnɐ ˈʁɛçtə ʊ...   \n",
       "10  1. /ˈjeːdɐ, deːɐ veːɡn̩ eːnɐ ˈʃtʁaːfbaːʁən ˈha...   \n",
       "11  /ˈniːmant dɑrf ˈvɪlkʏrliçən ˈaɪ̯nɡrɪfən ɪn zaɪ...   \n",
       "12  1. /ˈjeːdɐ hat das ʁɛçt, zɪç ˈɪnnɐˌhalp ˈaɪnɐs...   \n",
       "13  1. /ˈjeːdɐ hat das ʁɛçt, ɪn ˈandɐn ˈlɛndɐn ˈaz...   \n",
       "14  1. /ˈjeːdɐ hat das ʁɛçt aʊf ˈaɪnə ˈʃtaːtsanɡəh...   \n",
       "15  1. /ˈhaɪ̯ʁatsˌfɛːɪ̯ɡə ˈmɛnˌnɐ ʊnt ˈfʁaʊ̯ən ˈha...   \n",
       "16  1. /ˈjeːdɐ hat das ʁɛçt, ˈzoːvoːl ˈalain als a...   \n",
       "17  /ˈjeːdɐ hat das ʁɛçt aʊf ɡəˈdɛŋkən ɡəˈvɪsn̩s ʊ...   \n",
       "18  /ˈjeːdɐ hat das ʁɛçt aʊf ˈmaɪnʊŋsfʁaɪhaɪt ʊnt ...   \n",
       "19  1. /ˈalə ˈmɛnʃən ˈhaːbən das ʁɛçt, zɪç ˈfʁiːdl...   \n",
       "20  1. /ˈjeːdɐ hat das ʁɛçt, an deːɐ ɡəˈʃtaːltʊŋ d...   \n",
       "21  /ˈjeːdɐ ˈmɛnʃ hat als ˈmiːtɡliːt deːɐ ɡəˈzɛlʃa...   \n",
       "22  1. /ˈjeːdɐ hat das ʁɛçt aʊf ˈaʁbaɪt, aʊf ˈfʁaɪ...   \n",
       "23  /ˈjeːdɐ hat das ʁɛçt aʊf ɛɐˈhoːlʊŋ ʊnt ˈfʁaɪtˌ...   \n",
       "24  ˈjeːdɐ hat das ʁɛçt aʊf ˈaɪnən ˈleːbnsˌʃtaːnda...   \n",
       "25  1. /ˈjeːdɐ hat das ʁɛçt aʊf bɪlˈdʊŋ. diː bɪlˈd...   \n",
       "26  1. /ˈjeːdɐ hat das ʁɛçt, am kʊltuˈʁɛlən ˈliːbə...   \n",
       "27  /ˈjeːdɐ hat ˈʔanˌʃpraʊx aʊf ˈaɪnə zoˈtsiːalə ʊ...   \n",
       "28  1. ˈjeːdɐ hat ˈpflɪçtən ɡəˈɡɛnʏbɐ dɛɐ ɡəˈmaɪnʃ...   \n",
       "29  /kaɪnə bəˈʃtɪmʊŋ ˈdaːzɐ ɛrkˈlɛːrʊŋ darf ˈdaːhɪ...   \n",
       "\n",
       "                                          Swedish_ipa  \n",
       "0   /ˈalːa ˈmɛnːɪskʊr ɛr ˈfœdːa ˈfrɪːa ɔk ˈliːka i...  \n",
       "1   /ˈvar ɔk ˈɛn ɛr bɛˈrɛtːɪɡad tɪl ˈalːa dɛ ˈrɛtː...  \n",
       "2   /ˈvar ɔk ˈɛn har rɛt til liːv, ˈfriːhɛt ɔk pɛr...  \n",
       "3   /ˈɪŋɛn fɔr ˈhɔlːas ɪ ˈslɑːvɛrɪ ɛlɛr ˈtrɛlːdʊm;...  \n",
       "4   /ˈɪŋɛn fɔːr ²ɵtˌsɛtːas fœr tʊrˈtyːr ɛlɛr ²ɡryː...  \n",
       "5   /ˈvɑːr ɔk ˈɛn har rɛt ɑt ˈœvɛrˌal ɛrkɛnˈnɑs sɔ...  \n",
       "6   /ˈalːa ær ˈliːka ˈɪnˌføːr ˈlɑːɡɛn ɔk har rɛtː ...  \n",
       "7   /ˈvɑːr ɔk ˈɛn har rɛtː til ɛt ˈvæɾkˌsamt ˈrɛtː...  \n",
       "8   /ˈɪŋɛn fɔr ˈɡuːdʏkɛlɪt ˈanˌhɔlːas, ˈhɔlːas ˈfɛ...  \n",
       "9   /ˈvɑr ɔk ˈɛn ɛr ˈpɔ fɵlˈstɛnːdɪɡ ˈjɛmːlɪk fʊt ...  \n",
       "10  1. /var ɔk ˈɛn sɔm anˈklɑːsas fœr ɛn ˈstrafːba...  \n",
       "11  /ˈɪŋɛn fɔːr ²ɵtˌsɛtːas fœr ²ɡʊdˌtʏkːɛlɪɡa ²ɪŋˌ...  \n",
       "12  1. /var ɔk ˈɛn har rɛt ɑt frɪt fœrˈflytːa sɛj ...  \n",
       "13  1. /var ɔk ˈɕɑːr ˈatː ɪ ˈandɾa ˈlɛŋdɛɾ ˈsøːka ...  \n",
       "14  1. /var ɔk ˈɕɛn har rɛtː til ɛn nasjʊnaˈliːtɛt...  \n",
       "15  1. /fɵlˈvɵkˌsna mɛn ɔk ˈkvɪnˌnɔr har rɛtː at ˈ...  \n",
       "16  1. /var ɔk ˈɕɛn har rɛt ɑt ˈɛːga ˈeːgɛndɔm ˈbɛ...  \n",
       "17  /ˈvɑːr ɔk ˈɛn har rɛtː til ˈtanːkɛˌfriːhɛt, ˈs...  \n",
       "18  /ˈvɑːr ɔk ˈɛn har rɛtː til ˈoːsɪktsˌfriːhɛt ɔk...  \n",
       "19  1. /var ɔk ˈɛn har rɛtː til ˈfriːhɛt i ˈfroːga...  \n",
       "20  1. /var ɔk ˈɛn har rɛt ɑt ˈtɑːɡa dɛl i sɪt ˈla...  \n",
       "21  /ˈvɑːr ɔk ˈɛn har, i ˈeːɡɛnskap av ˈmeːdlɛm i ...  \n",
       "22  1. /var ɔk ˈɛn har rɛt til ˈarbɛtɛ, til frɪt v...  \n",
       "23  /ˈvɑːr ɔk ˈɛn har rɛtː til ˈviːla ɔk ˈfriːtiːd...  \n",
       "24  1. /var ɔk ˈɛn har rɛtː til ɛn ˈlɛvːnadsˌstand...  \n",
       "25  1. /var ɔk ˈɛn har rɛtː til ˈɵtːbɪldnɪŋ | ˈɵtː...  \n",
       "26  1. /var ɔk ˈɛn har rɛt ɑt frɪt dɛlˈta i ˈsamˌh...  \n",
       "27  /ˈvar ɔk ˈɛn ɛr bɛˈrɛtːɪɡad tɪl ɛn ˈsuːʂɪal ɔk...  \n",
       "28  1. /var ɔk ˈɛn har ˈplɪkˌtɛr ˈjɛnˌtɔt ˈsamˌhɛl...  \n",
       "29  /ˈɪŋɛntɪŋ i ˈdɛnːa fœrˈklɑːrɪŋ mɔːr ˈtuːlkas ˈ...  "
      ]
     },
     "execution_count": 41,
     "metadata": {},
     "output_type": "execute_result"
    }
   ],
   "source": [
    "df_phon[['English_ipa', 'German_ipa', 'Swedish_ipa']]"
   ]
  },
  {
   "cell_type": "code",
   "execution_count": null,
   "metadata": {},
   "outputs": [],
   "source": [
    "df_phon[['English_ipa', 'German_ipa', 'Swedish_ipa']].to_csv('phone_dist_data/UN_human_rights_ipa_germanic.csv', index = False)"
   ]
  },
  {
   "cell_type": "markdown",
   "metadata": {},
   "source": [
    "### Phonetic distance"
   ]
  },
  {
   "cell_type": "code",
   "execution_count": 10,
   "metadata": {},
   "outputs": [],
   "source": [
    "df_phon = pd.read_csv('phone_dist_data/UN_human_rights_ipa_germanic.csv')"
   ]
  },
  {
   "cell_type": "code",
   "execution_count": 11,
   "metadata": {},
   "outputs": [
    {
     "data": {
      "text/html": [
       "<div>\n",
       "<style scoped>\n",
       "    .dataframe tbody tr th:only-of-type {\n",
       "        vertical-align: middle;\n",
       "    }\n",
       "\n",
       "    .dataframe tbody tr th {\n",
       "        vertical-align: top;\n",
       "    }\n",
       "\n",
       "    .dataframe thead th {\n",
       "        text-align: right;\n",
       "    }\n",
       "</style>\n",
       "<table border=\"1\" class=\"dataframe\">\n",
       "  <thead>\n",
       "    <tr style=\"text-align: right;\">\n",
       "      <th></th>\n",
       "      <th>Unnamed: 0</th>\n",
       "      <th>English_ipa</th>\n",
       "      <th>German_ipa</th>\n",
       "      <th>Swedish_ipa</th>\n",
       "    </tr>\n",
       "  </thead>\n",
       "  <tbody>\n",
       "    <tr>\n",
       "      <th>0</th>\n",
       "      <td>0</td>\n",
       "      <td>/ɔːl ˈhjuːmən ˈbiːɪŋz ɑːr bɔːrn friː ænd ˈiːkw...</td>\n",
       "      <td>/ˈalə ˈmɛnʃən zɪnt fraɪ ʊnt ɡlaiç an ˈvʏrdə ʊn...</td>\n",
       "      <td>/ˈalːa ˈmɛnːɪskʊr ɛr ˈfœdːa ˈfrɪːa ɔk ˈliːka i...</td>\n",
       "    </tr>\n",
       "    <tr>\n",
       "      <th>1</th>\n",
       "      <td>1</td>\n",
       "      <td>/ˈɛvrɪwʌn ɪz ɪnˈtaɪtəld tuː ɔːl ðə raɪts ænd ˈ...</td>\n",
       "      <td>/ˈjeːdɐ hat ˈanʃpraʊx aʊf ˈalə ɪn ˈdɪzɐ ɛrˈklɛ...</td>\n",
       "      <td>/ˈvar ɔk ˈɛn ɛr bɛˈrɛtːɪɡad tɪl ˈalːa dɛ ˈrɛtː...</td>\n",
       "    </tr>\n",
       "    <tr>\n",
       "      <th>2</th>\n",
       "      <td>2</td>\n",
       "      <td>/ˈɛvrɪwʌn hæz ðə raɪt tu laɪf, ˈlɪbərti ænd sɪ...</td>\n",
       "      <td>/ˈjeːdɐ hat das ʁɛçt aʊf ˈliːbən, ˈfʁaɪhaɪt ʊn...</td>\n",
       "      <td>/ˈvar ɔk ˈɛn har rɛt til liːv, ˈfriːhɛt ɔk pɛr...</td>\n",
       "    </tr>\n",
       "    <tr>\n",
       "      <th>3</th>\n",
       "      <td>3</td>\n",
       "      <td>/noʊ wʌn ʃæl bi hɛld ɪn ˈsleɪvəri ɔr ˈsɜrvɪˌtu...</td>\n",
       "      <td>/ˈniːmant darf ɪn ˈʃlaːvəraɪ oːɐ̯ ˈlaɪ̯baɪ̯ɡən...</td>\n",
       "      <td>/ˈɪŋɛn fɔr ˈhɔlːas ɪ ˈslɑːvɛrɪ ɛlɛr ˈtrɛlːdʊm;...</td>\n",
       "    </tr>\n",
       "    <tr>\n",
       "      <th>4</th>\n",
       "      <td>4</td>\n",
       "      <td>/noʊ wʌn ʃæl bi səbˈdʒɛktɪd tu ˈtɔrtʃər ɔr tu ...</td>\n",
       "      <td>/ˈniːmant dɑrf deːɐ ˈfɔltɐ oːɐ ˈɡʁaʊzamɐ ˈʊnmɛ...</td>\n",
       "      <td>/ˈɪŋɛn fɔːr ²ɵtˌsɛtːas fœr tʊrˈtyːr ɛlɛr ²ɡryː...</td>\n",
       "    </tr>\n",
       "  </tbody>\n",
       "</table>\n",
       "</div>"
      ],
      "text/plain": [
       "   Unnamed: 0                                        English_ipa  \\\n",
       "0           0  /ɔːl ˈhjuːmən ˈbiːɪŋz ɑːr bɔːrn friː ænd ˈiːkw...   \n",
       "1           1  /ˈɛvrɪwʌn ɪz ɪnˈtaɪtəld tuː ɔːl ðə raɪts ænd ˈ...   \n",
       "2           2  /ˈɛvrɪwʌn hæz ðə raɪt tu laɪf, ˈlɪbərti ænd sɪ...   \n",
       "3           3  /noʊ wʌn ʃæl bi hɛld ɪn ˈsleɪvəri ɔr ˈsɜrvɪˌtu...   \n",
       "4           4  /noʊ wʌn ʃæl bi səbˈdʒɛktɪd tu ˈtɔrtʃər ɔr tu ...   \n",
       "\n",
       "                                          German_ipa  \\\n",
       "0  /ˈalə ˈmɛnʃən zɪnt fraɪ ʊnt ɡlaiç an ˈvʏrdə ʊn...   \n",
       "1  /ˈjeːdɐ hat ˈanʃpraʊx aʊf ˈalə ɪn ˈdɪzɐ ɛrˈklɛ...   \n",
       "2  /ˈjeːdɐ hat das ʁɛçt aʊf ˈliːbən, ˈfʁaɪhaɪt ʊn...   \n",
       "3  /ˈniːmant darf ɪn ˈʃlaːvəraɪ oːɐ̯ ˈlaɪ̯baɪ̯ɡən...   \n",
       "4  /ˈniːmant dɑrf deːɐ ˈfɔltɐ oːɐ ˈɡʁaʊzamɐ ˈʊnmɛ...   \n",
       "\n",
       "                                         Swedish_ipa  \n",
       "0  /ˈalːa ˈmɛnːɪskʊr ɛr ˈfœdːa ˈfrɪːa ɔk ˈliːka i...  \n",
       "1  /ˈvar ɔk ˈɛn ɛr bɛˈrɛtːɪɡad tɪl ˈalːa dɛ ˈrɛtː...  \n",
       "2  /ˈvar ɔk ˈɛn har rɛt til liːv, ˈfriːhɛt ɔk pɛr...  \n",
       "3  /ˈɪŋɛn fɔr ˈhɔlːas ɪ ˈslɑːvɛrɪ ɛlɛr ˈtrɛlːdʊm;...  \n",
       "4  /ˈɪŋɛn fɔːr ²ɵtˌsɛtːas fœr tʊrˈtyːr ɛlɛr ²ɡryː...  "
      ]
     },
     "execution_count": 11,
     "metadata": {},
     "output_type": "execute_result"
    }
   ],
   "source": [
    "df_phon.head()"
   ]
  },
  {
   "cell_type": "code",
   "execution_count": 12,
   "metadata": {},
   "outputs": [],
   "source": [
    "df_phon = df_phon.drop(columns = ['Unnamed: 0'])"
   ]
  },
  {
   "cell_type": "markdown",
   "metadata": {},
   "source": [
    "Clean the texts"
   ]
  },
  {
   "cell_type": "code",
   "execution_count": 129,
   "metadata": {},
   "outputs": [],
   "source": [
    "df_phon.English_ipa = df_phon.English_ipa.apply(clean_string)\n",
    "df_phon.German_ipa = df_phon.German_ipa.apply(clean_string)\n",
    "df_phon.Swedish_ipa = df_phon.Swedish_ipa.apply(clean_string)"
   ]
  },
  {
   "cell_type": "code",
   "execution_count": 130,
   "metadata": {},
   "outputs": [],
   "source": [
    "df_phon[\"phon_dist_en_de\"] = 0\n",
    "df_phon['phon_dist_en_se'] = 0\n",
    "df_phon['phon_dist_de_se'] = 0\n",
    "for i in range(len(df_phon)):\n",
    "    df_phon['phon_dist_en_de'].iloc[i] = utils.normalized_edit_distance(df_phon.English_ipa[i], df_phon.German_ipa[i])\n",
    "    df_phon['phon_dist_en_se'].iloc[i] = utils.normalized_edit_distance(df_phon.English_ipa[i], df_phon.Swedish_ipa[i])\n",
    "    df_phon['phon_dist_de_se'].iloc[i] = utils.normalized_edit_distance(df_phon.Swedish_ipa[i], df_phon.German_ipa[i])"
   ]
  },
  {
   "cell_type": "code",
   "execution_count": 131,
   "metadata": {},
   "outputs": [
    {
     "data": {
      "text/html": [
       "<div>\n",
       "<style scoped>\n",
       "    .dataframe tbody tr th:only-of-type {\n",
       "        vertical-align: middle;\n",
       "    }\n",
       "\n",
       "    .dataframe tbody tr th {\n",
       "        vertical-align: top;\n",
       "    }\n",
       "\n",
       "    .dataframe thead th {\n",
       "        text-align: right;\n",
       "    }\n",
       "</style>\n",
       "<table border=\"1\" class=\"dataframe\">\n",
       "  <thead>\n",
       "    <tr style=\"text-align: right;\">\n",
       "      <th></th>\n",
       "      <th>English_ipa</th>\n",
       "      <th>German_ipa</th>\n",
       "      <th>Swedish_ipa</th>\n",
       "      <th>phon_dist_en_de</th>\n",
       "      <th>phon_dist_en_se</th>\n",
       "      <th>phon_dist_de_se</th>\n",
       "    </tr>\n",
       "  </thead>\n",
       "  <tbody>\n",
       "    <tr>\n",
       "      <th>0</th>\n",
       "      <td>ɔːlˈhjuːmənˈbiːɪŋzɑːrbɔːrnfriːændˈiːkwəlɪnˈdɪɡ...</td>\n",
       "      <td>ˈaləˈmɛnʃənzɪntfraɪʊntɡlaiçanˈvʏrdəʊntˈrɪçtənɡ...</td>\n",
       "      <td>ˈalːaˈmɛnːɪskʊrɛrˈfœdːaˈfrɪːaɔkˈliːkaiˈvɛrːdɛɔ...</td>\n",
       "      <td>0.866197</td>\n",
       "      <td>0.863014</td>\n",
       "      <td>0.815068</td>\n",
       "    </tr>\n",
       "    <tr>\n",
       "      <th>1</th>\n",
       "      <td>ˈɛvrɪwʌnɪzɪnˈtaɪtəldtuːɔːlðəraɪtsændˈfriːdəmzs...</td>\n",
       "      <td>ˈjeːdɐhatˈanʃpraʊxaʊfˈaləɪnˈdɪzɐɛrˈklɛːrʊŋfɛɐˈ...</td>\n",
       "      <td>ˈvarɔkˈɛnɛrbɛˈrɛtːɪɡadtɪlˈalːadɛˈrɛtːɪhɛtɛrɔkˈ...</td>\n",
       "      <td>0.920086</td>\n",
       "      <td>0.812500</td>\n",
       "      <td>0.870103</td>\n",
       "    </tr>\n",
       "    <tr>\n",
       "      <th>2</th>\n",
       "      <td>ˈɛvrɪwʌnhæzðəraɪttulaɪfˈlɪbərtiændsɪˈkjʊrətiʌv...</td>\n",
       "      <td>ˈjeːdɐhatdasʁɛçtaʊfˈliːbənˈfʁaɪhaɪtʊntziˈçɐhaɪ...</td>\n",
       "      <td>ˈvarɔkˈɛnharrɛttilliːvˈfriːhɛtɔkpɛrˈsɔnliːˈsɛk...</td>\n",
       "      <td>0.875000</td>\n",
       "      <td>0.849057</td>\n",
       "      <td>0.800000</td>\n",
       "    </tr>\n",
       "    <tr>\n",
       "      <th>3</th>\n",
       "      <td>noʊwʌnʃælbihɛldɪnˈsleɪvəriɔrˈsɜrvɪˌtud;ˈsleɪvə...</td>\n",
       "      <td>ˈniːmantdarfɪnˈʃlaːvəraɪoːɐ̯ˈlaɪ̯baɪ̯ɡənʃaftɡə...</td>\n",
       "      <td>ˈɪŋɛnfɔrˈhɔlːasɪˈslɑːvɛrɪɛlɛrˈtrɛlːdʊm;ˈslɑːvɛ...</td>\n",
       "      <td>0.885714</td>\n",
       "      <td>0.778947</td>\n",
       "      <td>0.834862</td>\n",
       "    </tr>\n",
       "    <tr>\n",
       "      <th>4</th>\n",
       "      <td>noʊwʌnʃælbisəbˈdʒɛktɪdtuˈtɔrtʃərɔrtukruːəlɪnˈh...</td>\n",
       "      <td>ˈniːmantdɑrfdeːɐˈfɔltɐoːɐˈɡʁaʊzamɐˈʊnmɛnʃlɪçɐo...</td>\n",
       "      <td>ˈɪŋɛnfɔːr²ɵtˌsɛtːasfœrtʊrˈtyːrɛlɛr²ɡryːm²ʊˈmɛn...</td>\n",
       "      <td>0.920635</td>\n",
       "      <td>0.928962</td>\n",
       "      <td>0.871287</td>\n",
       "    </tr>\n",
       "  </tbody>\n",
       "</table>\n",
       "</div>"
      ],
      "text/plain": [
       "                                         English_ipa  \\\n",
       "0  ɔːlˈhjuːmənˈbiːɪŋzɑːrbɔːrnfriːændˈiːkwəlɪnˈdɪɡ...   \n",
       "1  ˈɛvrɪwʌnɪzɪnˈtaɪtəldtuːɔːlðəraɪtsændˈfriːdəmzs...   \n",
       "2  ˈɛvrɪwʌnhæzðəraɪttulaɪfˈlɪbərtiændsɪˈkjʊrətiʌv...   \n",
       "3  noʊwʌnʃælbihɛldɪnˈsleɪvəriɔrˈsɜrvɪˌtud;ˈsleɪvə...   \n",
       "4  noʊwʌnʃælbisəbˈdʒɛktɪdtuˈtɔrtʃərɔrtukruːəlɪnˈh...   \n",
       "\n",
       "                                          German_ipa  \\\n",
       "0  ˈaləˈmɛnʃənzɪntfraɪʊntɡlaiçanˈvʏrdəʊntˈrɪçtənɡ...   \n",
       "1  ˈjeːdɐhatˈanʃpraʊxaʊfˈaləɪnˈdɪzɐɛrˈklɛːrʊŋfɛɐˈ...   \n",
       "2  ˈjeːdɐhatdasʁɛçtaʊfˈliːbənˈfʁaɪhaɪtʊntziˈçɐhaɪ...   \n",
       "3  ˈniːmantdarfɪnˈʃlaːvəraɪoːɐ̯ˈlaɪ̯baɪ̯ɡənʃaftɡə...   \n",
       "4  ˈniːmantdɑrfdeːɐˈfɔltɐoːɐˈɡʁaʊzamɐˈʊnmɛnʃlɪçɐo...   \n",
       "\n",
       "                                         Swedish_ipa  phon_dist_en_de  \\\n",
       "0  ˈalːaˈmɛnːɪskʊrɛrˈfœdːaˈfrɪːaɔkˈliːkaiˈvɛrːdɛɔ...         0.866197   \n",
       "1  ˈvarɔkˈɛnɛrbɛˈrɛtːɪɡadtɪlˈalːadɛˈrɛtːɪhɛtɛrɔkˈ...         0.920086   \n",
       "2  ˈvarɔkˈɛnharrɛttilliːvˈfriːhɛtɔkpɛrˈsɔnliːˈsɛk...         0.875000   \n",
       "3  ˈɪŋɛnfɔrˈhɔlːasɪˈslɑːvɛrɪɛlɛrˈtrɛlːdʊm;ˈslɑːvɛ...         0.885714   \n",
       "4  ˈɪŋɛnfɔːr²ɵtˌsɛtːasfœrtʊrˈtyːrɛlɛr²ɡryːm²ʊˈmɛn...         0.920635   \n",
       "\n",
       "   phon_dist_en_se  phon_dist_de_se  \n",
       "0         0.863014         0.815068  \n",
       "1         0.812500         0.870103  \n",
       "2         0.849057         0.800000  \n",
       "3         0.778947         0.834862  \n",
       "4         0.928962         0.871287  "
      ]
     },
     "execution_count": 131,
     "metadata": {},
     "output_type": "execute_result"
    }
   ],
   "source": [
    "df_phon.head()"
   ]
  },
  {
   "cell_type": "code",
   "execution_count": 132,
   "metadata": {},
   "outputs": [
    {
     "name": "stdout",
     "output_type": "stream",
     "text": [
      "<class 'pandas.core.frame.DataFrame'>\n",
      "RangeIndex: 30 entries, 0 to 29\n",
      "Data columns (total 6 columns):\n",
      " #   Column           Non-Null Count  Dtype  \n",
      "---  ------           --------------  -----  \n",
      " 0   English_ipa      30 non-null     object \n",
      " 1   German_ipa       30 non-null     object \n",
      " 2   Swedish_ipa      30 non-null     object \n",
      " 3   phon_dist_en_de  30 non-null     float64\n",
      " 4   phon_dist_en_se  30 non-null     float64\n",
      " 5   phon_dist_de_se  30 non-null     float64\n",
      "dtypes: float64(3), object(3)\n",
      "memory usage: 1.5+ KB\n"
     ]
    }
   ],
   "source": [
    "df_phon.info()"
   ]
  },
  {
   "cell_type": "code",
   "execution_count": 135,
   "metadata": {},
   "outputs": [
    {
     "data": {
      "text/html": [
       "<div>\n",
       "<style scoped>\n",
       "    .dataframe tbody tr th:only-of-type {\n",
       "        vertical-align: middle;\n",
       "    }\n",
       "\n",
       "    .dataframe tbody tr th {\n",
       "        vertical-align: top;\n",
       "    }\n",
       "\n",
       "    .dataframe thead th {\n",
       "        text-align: right;\n",
       "    }\n",
       "</style>\n",
       "<table border=\"1\" class=\"dataframe\">\n",
       "  <thead>\n",
       "    <tr style=\"text-align: right;\">\n",
       "      <th></th>\n",
       "      <th>phon_dist_en_de</th>\n",
       "      <th>phon_dist_en_se</th>\n",
       "      <th>phon_dist_de_se</th>\n",
       "    </tr>\n",
       "  </thead>\n",
       "  <tbody>\n",
       "    <tr>\n",
       "      <th>count</th>\n",
       "      <td>30.000000</td>\n",
       "      <td>30.000000</td>\n",
       "      <td>30.000000</td>\n",
       "    </tr>\n",
       "    <tr>\n",
       "      <th>mean</th>\n",
       "      <td>0.901802</td>\n",
       "      <td>0.862984</td>\n",
       "      <td>0.865448</td>\n",
       "    </tr>\n",
       "    <tr>\n",
       "      <th>std</th>\n",
       "      <td>0.028927</td>\n",
       "      <td>0.029918</td>\n",
       "      <td>0.030363</td>\n",
       "    </tr>\n",
       "    <tr>\n",
       "      <th>min</th>\n",
       "      <td>0.830835</td>\n",
       "      <td>0.778947</td>\n",
       "      <td>0.800000</td>\n",
       "    </tr>\n",
       "    <tr>\n",
       "      <th>25%</th>\n",
       "      <td>0.875269</td>\n",
       "      <td>0.846610</td>\n",
       "      <td>0.843100</td>\n",
       "    </tr>\n",
       "    <tr>\n",
       "      <th>50%</th>\n",
       "      <td>0.906112</td>\n",
       "      <td>0.864273</td>\n",
       "      <td>0.868106</td>\n",
       "    </tr>\n",
       "    <tr>\n",
       "      <th>75%</th>\n",
       "      <td>0.922019</td>\n",
       "      <td>0.881079</td>\n",
       "      <td>0.885734</td>\n",
       "    </tr>\n",
       "    <tr>\n",
       "      <th>max</th>\n",
       "      <td>0.967480</td>\n",
       "      <td>0.928962</td>\n",
       "      <td>0.913495</td>\n",
       "    </tr>\n",
       "  </tbody>\n",
       "</table>\n",
       "</div>"
      ],
      "text/plain": [
       "       phon_dist_en_de  phon_dist_en_se  phon_dist_de_se\n",
       "count        30.000000        30.000000        30.000000\n",
       "mean          0.901802         0.862984         0.865448\n",
       "std           0.028927         0.029918         0.030363\n",
       "min           0.830835         0.778947         0.800000\n",
       "25%           0.875269         0.846610         0.843100\n",
       "50%           0.906112         0.864273         0.868106\n",
       "75%           0.922019         0.881079         0.885734\n",
       "max           0.967480         0.928962         0.913495"
      ]
     },
     "execution_count": 135,
     "metadata": {},
     "output_type": "execute_result"
    }
   ],
   "source": [
    "df_phon.describe()"
   ]
  },
  {
   "cell_type": "code",
   "execution_count": 134,
   "metadata": {},
   "outputs": [
    {
     "data": {
      "text/plain": [
       "<Axes: >"
      ]
     },
     "execution_count": 134,
     "metadata": {},
     "output_type": "execute_result"
    },
    {
     "data": {
      "image/png": "[encoded data removed]",
      "text/plain": [
       "<Figure size 640x480 with 1 Axes>"
      ]
     },
     "metadata": {},
     "output_type": "display_data"
    }
   ],
   "source": [
    "sns.boxplot(data = df_phon)"
   ]
  },
  {
   "cell_type": "code",
   "execution_count": 136,
   "metadata": {},
   "outputs": [
    {
     "data": {
      "text/plain": [
       "MannwhitneyuResult(statistic=743.0, pvalue=1.5291673925716366e-05)"
      ]
     },
     "execution_count": 136,
     "metadata": {},
     "output_type": "execute_result"
    }
   ],
   "source": [
    "stats.mannwhitneyu(df_phon.phon_dist_en_de, df_phon.phon_dist_en_se)"
   ]
  },
  {
   "cell_type": "code",
   "execution_count": 137,
   "metadata": {},
   "outputs": [
    {
     "data": {
      "text/plain": [
       "MannwhitneyuResult(statistic=727.0, pvalue=4.350946203888879e-05)"
      ]
     },
     "execution_count": 137,
     "metadata": {},
     "output_type": "execute_result"
    }
   ],
   "source": [
    "stats.mannwhitneyu(df_phon.phon_dist_en_de, df_phon.phon_dist_de_se)"
   ]
  },
  {
   "cell_type": "code",
   "execution_count": 138,
   "metadata": {},
   "outputs": [
    {
     "data": {
      "text/plain": [
       "MannwhitneyuResult(statistic=427.0, pvalue=0.7393988193114496)"
      ]
     },
     "execution_count": 138,
     "metadata": {},
     "output_type": "execute_result"
    }
   ],
   "source": [
    "stats.mannwhitneyu(df_phon.phon_dist_en_se, df_phon.phon_dist_de_se)"
   ]
  },
  {
   "cell_type": "markdown",
   "metadata": {},
   "source": [
    "Conclusions:\n",
    "-   Spoken English and german more different than spoken english and swedish, and spoken german and swedish.\n"
   ]
  },
  {
   "cell_type": "markdown",
   "metadata": {},
   "source": [
    "### Comparing orthography and phonetics"
   ]
  },
  {
   "cell_type": "code",
   "execution_count": 143,
   "metadata": {},
   "outputs": [],
   "source": [
    "df = df_ortho.join(df_phon)"
   ]
  },
  {
   "cell_type": "code",
   "execution_count": 144,
   "metadata": {},
   "outputs": [
    {
     "data": {
      "text/html": [
       "<div>\n",
       "<style scoped>\n",
       "    .dataframe tbody tr th:only-of-type {\n",
       "        vertical-align: middle;\n",
       "    }\n",
       "\n",
       "    .dataframe tbody tr th {\n",
       "        vertical-align: top;\n",
       "    }\n",
       "\n",
       "    .dataframe thead th {\n",
       "        text-align: right;\n",
       "    }\n",
       "</style>\n",
       "<table border=\"1\" class=\"dataframe\">\n",
       "  <thead>\n",
       "    <tr style=\"text-align: right;\">\n",
       "      <th></th>\n",
       "      <th>Article</th>\n",
       "      <th>English</th>\n",
       "      <th>German</th>\n",
       "      <th>Swedish</th>\n",
       "      <th>orth_dist_en_de</th>\n",
       "      <th>orth_dist_en_se</th>\n",
       "      <th>orth_dist_de_se</th>\n",
       "      <th>English_ipa</th>\n",
       "      <th>German_ipa</th>\n",
       "      <th>Swedish_ipa</th>\n",
       "      <th>phon_dist_en_de</th>\n",
       "      <th>phon_dist_en_se</th>\n",
       "      <th>phon_dist_de_se</th>\n",
       "    </tr>\n",
       "  </thead>\n",
       "  <tbody>\n",
       "    <tr>\n",
       "      <th>0</th>\n",
       "      <td>1</td>\n",
       "      <td>allhumanbeingsarebornfreeandequalindignityandr...</td>\n",
       "      <td>allemenschensindfreiundgleichanwürdeundrechten...</td>\n",
       "      <td>allamänniskorärföddafriaochlikaivärdeochrättig...</td>\n",
       "      <td>0.746377</td>\n",
       "      <td>0.792593</td>\n",
       "      <td>0.776119</td>\n",
       "      <td>ɔːlˈhjuːmənˈbiːɪŋzɑːrbɔːrnfriːændˈiːkwəlɪnˈdɪɡ...</td>\n",
       "      <td>ˈaləˈmɛnʃənzɪntfraɪʊntɡlaiçanˈvʏrdəʊntˈrɪçtənɡ...</td>\n",
       "      <td>ˈalːaˈmɛnːɪskʊrɛrˈfœdːaˈfrɪːaɔkˈliːkaiˈvɛrːdɛɔ...</td>\n",
       "      <td>0.866197</td>\n",
       "      <td>0.863014</td>\n",
       "      <td>0.815068</td>\n",
       "    </tr>\n",
       "    <tr>\n",
       "      <th>1</th>\n",
       "      <td>2</td>\n",
       "      <td>everyoneisentitledtoalltherightsandfreedomsset...</td>\n",
       "      <td>jederhatanspruchaufalleindiesererklärungverkün...</td>\n",
       "      <td>varochenärberättigadtillalladerättigheterochfr...</td>\n",
       "      <td>0.730159</td>\n",
       "      <td>0.740385</td>\n",
       "      <td>0.751648</td>\n",
       "      <td>ˈɛvrɪwʌnɪzɪnˈtaɪtəldtuːɔːlðəraɪtsændˈfriːdəmzs...</td>\n",
       "      <td>ˈjeːdɐhatˈanʃpraʊxaʊfˈaləɪnˈdɪzɐɛrˈklɛːrʊŋfɛɐˈ...</td>\n",
       "      <td>ˈvarɔkˈɛnɛrbɛˈrɛtːɪɡadtɪlˈalːadɛˈrɛtːɪhɛtɛrɔkˈ...</td>\n",
       "      <td>0.920086</td>\n",
       "      <td>0.812500</td>\n",
       "      <td>0.870103</td>\n",
       "    </tr>\n",
       "    <tr>\n",
       "      <th>2</th>\n",
       "      <td>3</td>\n",
       "      <td>everyonehastherighttolifelibertyandsecurityofp...</td>\n",
       "      <td>jederhatdasrechtauflebenfreiheitundsicherheitd...</td>\n",
       "      <td>varochenharrätttilllivfrihetochpersonligsäkerhet</td>\n",
       "      <td>0.628571</td>\n",
       "      <td>0.767677</td>\n",
       "      <td>0.764706</td>\n",
       "      <td>ˈɛvrɪwʌnhæzðəraɪttulaɪfˈlɪbərtiændsɪˈkjʊrətiʌv...</td>\n",
       "      <td>ˈjeːdɐhatdasʁɛçtaʊfˈliːbənˈfʁaɪhaɪtʊntziˈçɐhaɪ...</td>\n",
       "      <td>ˈvarɔkˈɛnharrɛttilliːvˈfriːhɛtɔkpɛrˈsɔnliːˈsɛk...</td>\n",
       "      <td>0.875000</td>\n",
       "      <td>0.849057</td>\n",
       "      <td>0.800000</td>\n",
       "    </tr>\n",
       "    <tr>\n",
       "      <th>3</th>\n",
       "      <td>4</td>\n",
       "      <td>nooneshallbeheldinslaveryorservitude;slaveryan...</td>\n",
       "      <td>niemanddarfinsklavereioderleibeigenschaftgehal...</td>\n",
       "      <td>ingenfårhållasislaveriellerträldom;slaveriochs...</td>\n",
       "      <td>0.768473</td>\n",
       "      <td>0.640449</td>\n",
       "      <td>0.771574</td>\n",
       "      <td>noʊwʌnʃælbihɛldɪnˈsleɪvəriɔrˈsɜrvɪˌtud;ˈsleɪvə...</td>\n",
       "      <td>ˈniːmantdarfɪnˈʃlaːvəraɪoːɐ̯ˈlaɪ̯baɪ̯ɡənʃaftɡə...</td>\n",
       "      <td>ˈɪŋɛnfɔrˈhɔlːasɪˈslɑːvɛrɪɛlɛrˈtrɛlːdʊm;ˈslɑːvɛ...</td>\n",
       "      <td>0.885714</td>\n",
       "      <td>0.778947</td>\n",
       "      <td>0.834862</td>\n",
       "    </tr>\n",
       "    <tr>\n",
       "      <th>4</th>\n",
       "      <td>5</td>\n",
       "      <td>nooneshallbesubjectedtotortureortocruelinhuman...</td>\n",
       "      <td>niemanddarfderfolterodergrausamerunmenschliche...</td>\n",
       "      <td>ingenfårutsättasförtortyrellergrymomänskligell...</td>\n",
       "      <td>0.833333</td>\n",
       "      <td>0.817073</td>\n",
       "      <td>0.691489</td>\n",
       "      <td>noʊwʌnʃælbisəbˈdʒɛktɪdtuˈtɔrtʃərɔrtukruːəlɪnˈh...</td>\n",
       "      <td>ˈniːmantdɑrfdeːɐˈfɔltɐoːɐˈɡʁaʊzamɐˈʊnmɛnʃlɪçɐo...</td>\n",
       "      <td>ˈɪŋɛnfɔːr²ɵtˌsɛtːasfœrtʊrˈtyːrɛlɛr²ɡryːm²ʊˈmɛn...</td>\n",
       "      <td>0.920635</td>\n",
       "      <td>0.928962</td>\n",
       "      <td>0.871287</td>\n",
       "    </tr>\n",
       "  </tbody>\n",
       "</table>\n",
       "</div>"
      ],
      "text/plain": [
       "   Article                                            English  \\\n",
       "0        1  allhumanbeingsarebornfreeandequalindignityandr...   \n",
       "1        2  everyoneisentitledtoalltherightsandfreedomsset...   \n",
       "2        3  everyonehastherighttolifelibertyandsecurityofp...   \n",
       "3        4  nooneshallbeheldinslaveryorservitude;slaveryan...   \n",
       "4        5  nooneshallbesubjectedtotortureortocruelinhuman...   \n",
       "\n",
       "                                              German  \\\n",
       "0  allemenschensindfreiundgleichanwürdeundrechten...   \n",
       "1  jederhatanspruchaufalleindiesererklärungverkün...   \n",
       "2  jederhatdasrechtauflebenfreiheitundsicherheitd...   \n",
       "3  niemanddarfinsklavereioderleibeigenschaftgehal...   \n",
       "4  niemanddarfderfolterodergrausamerunmenschliche...   \n",
       "\n",
       "                                             Swedish  orth_dist_en_de  \\\n",
       "0  allamänniskorärföddafriaochlikaivärdeochrättig...         0.746377   \n",
       "1  varochenärberättigadtillalladerättigheterochfr...         0.730159   \n",
       "2   varochenharrätttilllivfrihetochpersonligsäkerhet         0.628571   \n",
       "3  ingenfårhållasislaveriellerträldom;slaveriochs...         0.768473   \n",
       "4  ingenfårutsättasförtortyrellergrymomänskligell...         0.833333   \n",
       "\n",
       "   orth_dist_en_se  orth_dist_de_se  \\\n",
       "0         0.792593         0.776119   \n",
       "1         0.740385         0.751648   \n",
       "2         0.767677         0.764706   \n",
       "3         0.640449         0.771574   \n",
       "4         0.817073         0.691489   \n",
       "\n",
       "                                         English_ipa  \\\n",
       "0  ɔːlˈhjuːmənˈbiːɪŋzɑːrbɔːrnfriːændˈiːkwəlɪnˈdɪɡ...   \n",
       "1  ˈɛvrɪwʌnɪzɪnˈtaɪtəldtuːɔːlðəraɪtsændˈfriːdəmzs...   \n",
       "2  ˈɛvrɪwʌnhæzðəraɪttulaɪfˈlɪbərtiændsɪˈkjʊrətiʌv...   \n",
       "3  noʊwʌnʃælbihɛldɪnˈsleɪvəriɔrˈsɜrvɪˌtud;ˈsleɪvə...   \n",
       "4  noʊwʌnʃælbisəbˈdʒɛktɪdtuˈtɔrtʃərɔrtukruːəlɪnˈh...   \n",
       "\n",
       "                                          German_ipa  \\\n",
       "0  ˈaləˈmɛnʃənzɪntfraɪʊntɡlaiçanˈvʏrdəʊntˈrɪçtənɡ...   \n",
       "1  ˈjeːdɐhatˈanʃpraʊxaʊfˈaləɪnˈdɪzɐɛrˈklɛːrʊŋfɛɐˈ...   \n",
       "2  ˈjeːdɐhatdasʁɛçtaʊfˈliːbənˈfʁaɪhaɪtʊntziˈçɐhaɪ...   \n",
       "3  ˈniːmantdarfɪnˈʃlaːvəraɪoːɐ̯ˈlaɪ̯baɪ̯ɡənʃaftɡə...   \n",
       "4  ˈniːmantdɑrfdeːɐˈfɔltɐoːɐˈɡʁaʊzamɐˈʊnmɛnʃlɪçɐo...   \n",
       "\n",
       "                                         Swedish_ipa  phon_dist_en_de  \\\n",
       "0  ˈalːaˈmɛnːɪskʊrɛrˈfœdːaˈfrɪːaɔkˈliːkaiˈvɛrːdɛɔ...         0.866197   \n",
       "1  ˈvarɔkˈɛnɛrbɛˈrɛtːɪɡadtɪlˈalːadɛˈrɛtːɪhɛtɛrɔkˈ...         0.920086   \n",
       "2  ˈvarɔkˈɛnharrɛttilliːvˈfriːhɛtɔkpɛrˈsɔnliːˈsɛk...         0.875000   \n",
       "3  ˈɪŋɛnfɔrˈhɔlːasɪˈslɑːvɛrɪɛlɛrˈtrɛlːdʊm;ˈslɑːvɛ...         0.885714   \n",
       "4  ˈɪŋɛnfɔːr²ɵtˌsɛtːasfœrtʊrˈtyːrɛlɛr²ɡryːm²ʊˈmɛn...         0.920635   \n",
       "\n",
       "   phon_dist_en_se  phon_dist_de_se  \n",
       "0         0.863014         0.815068  \n",
       "1         0.812500         0.870103  \n",
       "2         0.849057         0.800000  \n",
       "3         0.778947         0.834862  \n",
       "4         0.928962         0.871287  "
      ]
     },
     "execution_count": 144,
     "metadata": {},
     "output_type": "execute_result"
    }
   ],
   "source": [
    "df.head()"
   ]
  },
  {
   "cell_type": "code",
   "execution_count": 145,
   "metadata": {},
   "outputs": [
    {
     "data": {
      "image/png": "[encoded data removed]",
      "text/plain": [
       "<Figure size 640x480 with 1 Axes>"
      ]
     },
     "metadata": {},
     "output_type": "display_data"
    }
   ],
   "source": [
    "bx = sns.boxplot(data = df[['orth_dist_en_de', 'orth_dist_en_se', 'orth_dist_de_se', 'phon_dist_en_de', 'phon_dist_en_se', 'phon_dist_de_se']],)\n",
    "bx.set_xticklabels(labels = ['orth_dist_en_de', 'orth_dist_en_se', 'orth_dist_de_se', 'phon_dist_en_de', 'phon_dist_en_se', 'phon_dist_de_se'], rotation = 45);"
   ]
  },
  {
   "cell_type": "code",
   "execution_count": 146,
   "metadata": {},
   "outputs": [
    {
     "data": {
      "image/png": "[encoded data removed]",
      "text/plain": [
       "<Figure size 640x480 with 1 Axes>"
      ]
     },
     "metadata": {},
     "output_type": "display_data"
    }
   ],
   "source": [
    "bx = sns.barplot(data = df[['orth_dist_en_de', 'orth_dist_en_se', 'orth_dist_de_se', 'phon_dist_en_de', 'phon_dist_en_se', 'phon_dist_de_se']],\n",
    "                 ci=95)\n",
    "\n",
    "\n",
    "bx.set_xticklabels(labels = ['orth_dist_en_de', 'orth_dist_en_se', 'orth_dist_de_se', 'phon_dist_en_de', 'phon_dist_en_se', 'phon_dist_de_se'], rotation = 45);"
   ]
  },
  {
   "cell_type": "markdown",
   "metadata": {},
   "source": [
    "differences between orthographical and phonetical distance?"
   ]
  },
  {
   "cell_type": "code",
   "execution_count": 147,
   "metadata": {},
   "outputs": [
    {
     "data": {
      "text/plain": [
       "MannwhitneyuResult(statistic=28.0, pvalue=4.6159103691111474e-10)"
      ]
     },
     "execution_count": 147,
     "metadata": {},
     "output_type": "execute_result"
    }
   ],
   "source": [
    "stats.mannwhitneyu(df.orth_dist_en_de, df.phon_dist_en_de)"
   ]
  },
  {
   "cell_type": "code",
   "execution_count": 148,
   "metadata": {},
   "outputs": [
    {
     "data": {
      "text/plain": [
       "MannwhitneyuResult(statistic=73.0, pvalue=2.6015113749963406e-08)"
      ]
     },
     "execution_count": 148,
     "metadata": {},
     "output_type": "execute_result"
    }
   ],
   "source": [
    "stats.mannwhitneyu(df.orth_dist_en_se, df.phon_dist_en_se)"
   ]
  },
  {
   "cell_type": "code",
   "execution_count": 149,
   "metadata": {},
   "outputs": [
    {
     "data": {
      "text/plain": [
       "MannwhitneyuResult(statistic=102.0, pvalue=2.782874101251223e-07)"
      ]
     },
     "execution_count": 149,
     "metadata": {},
     "output_type": "execute_result"
    }
   ],
   "source": [
    "stats.mannwhitneyu(df.orth_dist_de_se, df.phon_dist_de_se)"
   ]
  },
  {
   "cell_type": "markdown",
   "metadata": {},
   "source": [
    "Effectsizes: cohensD"
   ]
  },
  {
   "cell_type": "markdown",
   "metadata": {},
   "source": [
    "create heatmaps"
   ]
  },
  {
   "cell_type": "markdown",
   "metadata": {},
   "source": [
    "All differences significant at p > .001"
   ]
  },
  {
   "cell_type": "markdown",
   "metadata": {},
   "source": [
    "### Conclusion:\n",
    "- All languages are more similar in their written form than in their spoken form\n",
    "- The largest difference lies between spoken english and german"
   ]
  },
  {
   "cell_type": "markdown",
   "metadata": {},
   "source": [
    "### Outlook"
   ]
  },
  {
   "cell_type": "markdown",
   "metadata": {},
   "source": [
    "Potential improvements:\n",
    "-   Look at texts that are more reflective of the languages as a whole and diverese compared to the legal text human declaration of rights. -> could reduce bias of the LLM for context specific language proficiency as; would avoid bias in distance measurement due to similarities in use of words/formulations between the documents.\n",
    "\n",
    "-   Add weighting to the calculating of edit distance based on how similar sounds are and if the ipa character represents a sound or a modification of a sound, such as aspirated and unaspirated; difference in stress etc.\n",
    "\n"
   ]
  }
 ],
 "metadata": {
  "kernelspec": {
   "display_name": "Python 3",
   "language": "python",
   "name": "python3"
  },
  "language_info": {
   "codemirror_mode": {
    "name": "ipython",
    "version": 3
   },
   "file_extension": ".py",
   "mimetype": "text/x-python",
   "name": "python",
   "nbconvert_exporter": "python",
   "pygments_lexer": "ipython3",
   "version": "3.11.9"
  }
 },
 "nbformat": 4,
 "nbformat_minor": 2
}
